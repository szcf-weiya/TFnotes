{
 "cells": [
  {
   "cell_type": "markdown",
   "metadata": {},
   "source": [
    "# 使用TensorFlow处理GMM模型\n",
    "参考[为什么统计学家也应该学学 TensorFlow](https://cosx.org/2017/08/tensorflow-for-statisticians/)"
   ]
  },
  {
   "cell_type": "markdown",
   "metadata": {},
   "source": [
    "### 生成模拟数据"
   ]
  },
  {
   "cell_type": "code",
   "execution_count": 1,
   "metadata": {
    "collapsed": true
   },
   "outputs": [],
   "source": [
    "import numpy as np\n",
    "import matplotlib.pyplot as plt"
   ]
  },
  {
   "cell_type": "code",
   "execution_count": 3,
   "metadata": {
    "collapsed": true
   },
   "outputs": [],
   "source": [
    "np.random.seed(123)"
   ]
  },
  {
   "cell_type": "code",
   "execution_count": 4,
   "metadata": {
    "collapsed": true
   },
   "outputs": [],
   "source": [
    "# parameters\n",
    "p1 = 0.3\n",
    "p2 = 0.7\n",
    "mu1 = 0.0\n",
    "mu2 = 5.0\n",
    "sigma1 = 1.0\n",
    "sigma2 = 1.5"
   ]
  },
  {
   "cell_type": "code",
   "execution_count": 5,
   "metadata": {
    "collapsed": true
   },
   "outputs": [],
   "source": [
    "# simulate data\n",
    "N = 1000\n",
    "x = np.zeros(N)\n",
    "ind = np.random.binomial(1, p1, N).astype('bool_')\n",
    "n1 = ind.sum()\n",
    "x[ind] = np.random.normal(mu1, sigma1, n1)\n",
    "x[np.logical_not(ind)] = np.random.normal(mu2, sigma2, N-n1)\n",
    "## 注意这种混合分布模拟数据的生成方式\n",
    "## 0.3N(0, 1) + 0.7N(5, 1.5^2)"
   ]
  },
  {
   "cell_type": "code",
   "execution_count": 6,
   "metadata": {
    "collapsed": false
   },
   "outputs": [
    {
     "data": {
      "image/png": "[encoded data removed]",
      "text/plain": [
       "<matplotlib.figure.Figure at 0x7f013ad97850>"
      ]
     },
     "metadata": {},
     "output_type": "display_data"
    }
   ],
   "source": [
    "# Histogram\n",
    "plt.hist(x, bins=30)\n",
    "plt.show()"
   ]
  },
  {
   "cell_type": "code",
   "execution_count": 7,
   "metadata": {
    "collapsed": false
   },
   "outputs": [
    {
     "data": {
      "image/png": "[encoded data removed]",
      "text/plain": [
       "<matplotlib.figure.Figure at 0x7f013d7e78d0>"
      ]
     },
     "metadata": {},
     "output_type": "display_data"
    }
   ],
   "source": [
    "# 直接相加减\n",
    "y = np.zeros(N)\n",
    "y = np.random.normal(mu1, sigma1, N)*0.3 + np.random.normal(mu2, sigma2, N)*0.7\n",
    "plt.hist(y, bins=30)\n",
    "plt.show()"
   ]
  },
  {
   "cell_type": "markdown",
   "metadata": {},
   "source": [
    "###  GMM模型估计"
   ]
  },
  {
   "cell_type": "code",
   "execution_count": 9,
   "metadata": {
    "collapsed": false
   },
   "outputs": [],
   "source": [
    "import tensorflow as tf\n",
    "import tensorflow.contrib.distributions as ds"
   ]
  },
  {
   "cell_type": "code",
   "execution_count": 10,
   "metadata": {
    "collapsed": false
   },
   "outputs": [
    {
     "name": "stdout",
     "output_type": "stream",
     "text": [
      "('Estimated values:', [0.29020733, -0.078560397, 5.0137568, 0.9575491, 1.4157517])\n",
      "('True values:', [0.3, 0.0, 5.0, 1.0, 1.5])\n"
     ]
    }
   ],
   "source": [
    "# define data\n",
    "t_x = tf.placeholder(tf.float32)\n",
    "\n",
    "# define parameters\n",
    "t_p1_ = tf.Variable(0.0, dtype = tf.float32)\n",
    "t_p1 = tf.nn.softplus(t_p1_)\n",
    "t_mu1 = tf.Variable(0.0, dtype = tf.float32)\n",
    "t_mu2 = tf.Variable(1.0, dtype = tf.float32)\n",
    "t_sigma1_ = tf.Variable(1.0, dtype = tf.float32)\n",
    "t_sigma1 = tf.nn.softplus(t_sigma1_)\n",
    "t_sigma2_ = tf.Variable(1.0, dtype = tf.float32)\n",
    "t_sigma2 = tf.nn.softplus(t_sigma2_)\n",
    "\n",
    "# define model and objective function\n",
    "t_gm = ds.Mixture(\n",
    "    cat = ds.Categorical(probs=[t_p1, 1.0-t_p1]),\n",
    "    components=[\n",
    "        ds.Normal(t_mu1, t_sigma1),\n",
    "        ds.Normal(t_mu2, t_sigma2)\n",
    "    ]\n",
    ")\n",
    "t_ll = tf.reduce_mean(t_gm.log_prob(t_x))\n",
    "\n",
    "# optimization\n",
    "optimizer = tf.train.GradientDescentOptimizer(0.5)\n",
    "train = optimizer.minimize(-t_ll)\n",
    "\n",
    "# run\n",
    "sess = tf.Session()\n",
    "init = tf.global_variables_initializer()\n",
    "sess.run(init)\n",
    "for _ in range(500):\n",
    "    sess.run(train, {t_x: x})\n",
    "    \n",
    "print('Estimated values:', sess.run([t_p1, t_mu1, t_mu2, t_sigma1, t_sigma2]))\n",
    "print('True values:', [p1, mu1, mu2, sigma1, sigma2])"
   ]
  },
  {
   "cell_type": "code",
   "execution_count": 11,
   "metadata": {
    "collapsed": false
   },
   "outputs": [
    {
     "name": "stdout",
     "output_type": "stream",
     "text": [
      "('Estimated values:', [0.015389269, 2.1191218, 3.5452435, 0.87701946, 1.0529736])\n",
      "('True values:', [0.3, 0.0, 5.0, 1.0, 1.5])\n"
     ]
    }
   ],
   "source": [
    "# for data y\n",
    "for _ in range(500):\n",
    "    sess.run(train, {t_x: y})\n",
    "    \n",
    "print('Estimated values:', sess.run([t_p1, t_mu1, t_mu2, t_sigma1, t_sigma2]))\n",
    "print('True values:', [p1, mu1, mu2, sigma1, sigma2])"
   ]
  }
 ],
 "metadata": {
  "anaconda-cloud": {},
  "kernelspec": {
   "display_name": "Python [conda env:anaconda2]",
   "language": "python",
   "name": "conda-env-anaconda2-py"
  },
  "language_info": {
   "codemirror_mode": {
    "name": "ipython",
    "version": 2
   },
   "file_extension": ".py",
   "mimetype": "text/x-python",
   "name": "python",
   "nbconvert_exporter": "python",
   "pygments_lexer": "ipython2",
   "version": "2.7.12"
  }
 },
 "nbformat": 4,
 "nbformat_minor": 1
}
